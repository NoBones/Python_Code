{
 "cells": [
  {
   "cell_type": "markdown",
   "metadata": {},
   "source": [
    "#Chapter 1\n",
    "##Experimenting with Code and Markdown symbols\n",
    "\n",
    "print(\"Hello\")\n",
    "\n",
    "2+2\n",
    "\n",
    "!ls *.ipynb* This action of ls will work on the unix/linux operating system environment whereas the \n",
    "\n",
    "!dir *.ipynb* will work on the Windows OS."
   ]
  },
  {
   "cell_type": "markdown",
   "metadata": {},
   "source": [
    "### New paragraph\n",
    "This is *rich* **text** with [links] (http://ipython.org), equations:\n",
    "\n",
    "$$\\hat{f}(\\psi) = \\int_{-\\infty}^{+\\infty} f(x)\\,\n",
    "\\mathrm(e)^{-i \\xi x}$$\n",
    "\n",
    "code with syntax highlighting:\n",
    "```python\n",
    "print(\"Hello World\")\n",
    "```\n",
    "and images:\n",
    "![This is an image] (http://ipython.org/_static/IPy_header.png)"
   ]
  },
  {
   "cell_type": "markdown",
   "metadata": {},
   "source": [
    "#Chapter 2\n",
    "##Choosing Python 2 or 3\n",
    "Upgrading from Python 2.x to 3.x is cumbersome but Python has a library tool called “2to3”.  This tool will allow the code to update to the new conversion type.  For instance, logical expression, integer types, string versus Unicode etc.\n",
    "<table>\n",
    "<tr><td>Python 2.x</td><td>Python 3.x</td><td>Notes</td></tr>\n",
    "<tr><td>print 1</td><td>print(1)</td><td>The () are need in version 3.</td></tr>\n",
    "<tr><td>If x<>y:</td><td>if x != y:</td><td>The replacement of <> to !=</td></tr>\n",
    "</table>\n",
    "\t\t\t\t\t\t\n",
    "\t\t\t\t\t\t\n",
    "More examples of the differences can be located at this url <a href='#www.diveintopython3.net/porting-code-to-python-with-2to3.html'>Dive into Python</a> .\n",
    "##Integrated Development Environment (IDE)\n",
    "Python has many different IDEs to program in such as, Spyder, Eclipse plugin, PyCharm, Komodo, IDLE and Python Tools for Visual Studio.  Several IDEs associate an authoritative text editor, terminal and a debugger within a unified environment.\t  These IDEs have an easy navigation and ability to provide proper debugging features.  \t\n",
    "##Distributed Version Control\n",
    "There are many different DVCS software or cloud providers for sharing code, documents, or just basic information.  JOOMLA and WordPress offer a speaking ground for content management but do allow interaction with customers.  The Distributed Version Control System has more features which are for the developers to store the program code in a centralized location on a server or internal stand-alone network.  For instance, we are using the Github online service for projects among the three members for collaboration.  The IPython Interactive Computing and Visualization Cookbook mentions using the command line from the Git Shell.  The Git Shell is excellent for debugging if the website of the desktop GitHub is acting quirky.  \n",
    "  \n"
   ]
  },
  {
   "cell_type": "markdown",
   "metadata": {
    "collapsed": true
   },
   "source": [
    "## Newton's Law of Cooling\n",
    "$$(T-C)=(T_0-C)e^{-kt}$$\n",
    "This program is calculating and graphing the cooling effect of an object.\n",
    "The user will be ask to enter the following information:\n",
    "Initial temperature of the object.\n",
    "Final temperature of the object.\n",
    "The time in minutes between the initial and final temperature of the object.\n",
    "Current surrounding temperature.\n",
    "The temperature can either be in F$^{\\circ}$ or C$^{\\circ}$."
   ]
  },
  {
   "cell_type": "markdown",
   "metadata": {},
   "source": [
    "Section 1 defines which modules will need to be imported into the program.  The three modules are math, numpy and matplotlib.\n"
   ]
  },
  {
   "cell_type": "code",
   "execution_count": 2,
   "metadata": {
    "collapsed": true
   },
   "outputs": [],
   "source": [
    "#Created on Sun Oct 11 14:55:08 2015\n",
    "\n",
    "#@author: Di3Walkur3\n",
    "import math\n",
    "import numpy as np\n",
    "import matplotlib.pyplot as plt\n",
    "%matplotlib inline"
   ]
  },
  {
   "cell_type": "markdown",
   "metadata": {},
   "source": [
    "Section 2 set ups the variables to be used.  The end user will input the values needed to calculate the cooling formula from Issacc Netwon.  The ability to convert the string input to a numerical value, the program uses the float descriptor."
   ]
  },
  {
   "cell_type": "code",
   "execution_count": 3,
   "metadata": {
    "collapsed": false
   },
   "outputs": [
    {
     "name": "stdout",
     "output_type": "stream",
     "text": [
      "Newtons Law of Cooling\n",
      "Temperature can be in either F or C\n",
      "Initial temperature of object: 212\n",
      "Final Temperature of object: 60\n",
      "Temperature of the surroundings: 5\n",
      "Time between the two temperatures in minutes: 5\n"
     ]
    }
   ],
   "source": [
    "#np.log is equal to ln(x)\n",
    "#T is final temp\n",
    "#C is room temp\n",
    "#Ti is initial temp at time of object\n",
    "#e is expontenial\n",
    "#-k is cooling number\n",
    "#t is time between the two temps in minutes\n",
    "print('Newtons Law of Cooling'),print('Temperature can be in either F or C')\n",
    "Ti = float(input('Initial temperature of object: '))\n",
    "T = float(input('Final Temperature of object: '))\n",
    "C = float(input('Temperature of the surroundings: '))\n",
    "t = float(input('Time between the two temperatures in minutes: '))"
   ]
  },
  {
   "cell_type": "markdown",
   "metadata": {},
   "source": [
    "Section 3 performs the calculation of constant _k_.  The constant _k_ is the factor on determining the cooling period.  The minutes is calculated by using $$ln((Ti-C)/(T-C))/-k$$"
   ]
  },
  {
   "cell_type": "code",
   "execution_count": 4,
   "metadata": {
    "collapsed": false
   },
   "outputs": [
    {
     "name": "stdout",
     "output_type": "stream",
     "text": [
      "k=  -0.265077121607\n",
      "Hours:  0.08333333333333333\n",
      "Minutes:  5.0\n"
     ]
    }
   ],
   "source": [
    "#Calculating the constant k\n",
    "k = (np.log((T-C)/(Ti-C))/t)\n",
    "print('k= ',k)\n",
    "\n",
    "minutes = (np.log((Ti-C)/(T-C))/-k)\n",
    "hours = float(minutes/60)\n",
    "\n",
    "print('Hours: ',hours)\n",
    "print('Minutes: ',minutes)"
   ]
  },
  {
   "cell_type": "markdown",
   "metadata": {},
   "source": [
    "Section 4 takes advantage of the matplotlib module for the graphing functions.  The %matplotlib inline allows the graph to be presented within the document as shown below."
   ]
  },
  {
   "cell_type": "code",
   "execution_count": 5,
   "metadata": {
    "collapsed": false
   },
   "outputs": [
    {
     "data": {
      "image/png": "[encoded data removed]",
      "text/plain": [
       "<matplotlib.figure.Figure at 0x748e0f0>"
      ]
     },
     "metadata": {},
     "output_type": "display_data"
    }
   ],
   "source": [
    "x = np.linspace(0, t, 100)\n",
    "b = float(Ti)\n",
    "y = (C + (b-C) * np.exp(k * x))\n",
    "\n",
    "\n",
    "plt.title('Netwons Law of Cooling')\n",
    "plt.plot(x, y, '-k')\n",
    "plt.xlabel('x= Time in minutes'); plt.ylabel('y=Objects Temperature')\n",
    "plt.show()"
   ]
  },
  {
   "cell_type": "markdown",
   "metadata": {},
   "source": [
    "## Stock Price Retrival \n",
    "Source provider is Yahoo finance.\n",
    "\n",
    "Section 1 defines which modules will need to be imported into the program.  The modules are pandas, datetime, matplotlib and %matplotlib.  The command of _print(plt.style.available)_ will display the five types of styles ['fivethirtyeight', 'bmh', 'dark_background', 'grayscale', 'ggplot']."
   ]
  },
  {
   "cell_type": "code",
   "execution_count": 6,
   "metadata": {
    "collapsed": true
   },
   "outputs": [],
   "source": [
    "import pandas as pd\n",
    "import datetime\n",
    "import pandas.io.data as web\n",
    "#from pandas_datareader import data, wb\n",
    "import matplotlib.pyplot as plt\n",
    "from matplotlib import style\n",
    "%matplotlib inline\n",
    "#print(plt.style.available)  ['fivethirtyeight', 'bmh', 'dark_background', 'grayscale', 'ggplot']\n"
   ]
  },
  {
   "cell_type": "markdown",
   "metadata": {},
   "source": [
    "Section 2 set ups the variables to be used.  The end user will input the values needed to calculate the stock price between a certain period of time.  The ability to convert the string input to a numerical value, the program uses the int descriptor."
   ]
  },
  {
   "cell_type": "code",
   "execution_count": 7,
   "metadata": {
    "collapsed": false
   },
   "outputs": [
    {
     "name": "stdout",
     "output_type": "stream",
     "text": [
      "Please enter the stock symbol:pep\n",
      "Start Year yyyy:2015\n",
      "Month (1-12):10\n",
      "Day (1-31):1\n",
      "End Year yyyy:2015\n",
      "Month (1-12):10\n",
      "Day (1-31):21\n"
     ]
    }
   ],
   "source": [
    "style.use('fivethirtyeight')\n",
    "stk = input('Please enter the stock symbol:')\n",
    "y = int(input('Start Year yyyy:'))\n",
    "m = int(input('Month (1-12):'))\n",
    "d = int(input('Day (1-31):'))\n",
    "y1 = int(input('End Year yyyy:'))\n",
    "m1 = int(input('Month (1-12):'))\n",
    "d1 = int(input('Day (1-31):'))"
   ]
  },
  {
   "cell_type": "markdown",
   "metadata": {},
   "source": [
    "Section 3 recieves the information from Section 2 about the stock and timeframe to review.  The _print(df.head())_ which is a part of pandas will set up a data frame for the data.  The data frame displays the column headings of Date, Open, High, Low, Close, Volume Traded and Adj Close.  The plot function (plt) from matplotlib and the %matplotlib inline to display the graph in the document."
   ]
  },
  {
   "cell_type": "code",
   "execution_count": 11,
   "metadata": {
    "collapsed": false,
    "scrolled": true
   },
   "outputs": [
    {
     "name": "stdout",
     "output_type": "stream",
     "text": [
      "                 Open       High        Low      Close   Volume  Adj Close\n",
      "Date                                                                      \n",
      "2015-10-01  94.199997  94.500000  93.129997  93.849998  5054200  93.849998\n",
      "2015-10-02  93.169998  94.220001  92.529999  94.160004  5129200  94.160004\n",
      "2015-10-05  94.910004  95.980003  94.589996  95.809998  5668500  95.809998\n",
      "2015-10-06  97.959999  98.000000  96.730003  97.070000  7058900  97.070000\n",
      "2015-10-07  97.190002  98.989998  97.080002  98.519997  6528200  98.519997\n"
     ]
    },
    {
     "data": {
      "image/png": "[encoded data removed]",
      "text/plain": [
       "<matplotlib.figure.Figure at 0x950b898>"
      ]
     },
     "metadata": {},
     "output_type": "display_data"
    }
   ],
   "source": [
    "start = datetime.datetime(y, m, d)\n",
    "end = datetime.datetime(y1, m1, d1)\n",
    "df = web.DataReader(stk, \"yahoo\", start, end)\n",
    "print(df.head())\n",
    "df['High'].plot()\n",
    "plt.xlabel('Date')\n",
    "plt.ylabel('Price')\n",
    "plt.title(stk)\n",
    "plt.show()"
   ]
  },
  {
   "cell_type": "code",
   "execution_count": null,
   "metadata": {
    "collapsed": true
   },
   "outputs": [],
   "source": []
  }
 ],
 "metadata": {
  "kernelspec": {
   "display_name": "Python 3",
   "language": "python",
   "name": "python3"
  },
  "language_info": {
   "codemirror_mode": {
    "name": "ipython",
    "version": 3
   },
   "file_extension": ".py",
   "mimetype": "text/x-python",
   "name": "python",
   "nbconvert_exporter": "python",
   "pygments_lexer": "ipython3",
   "version": "3.4.3"
  }
 },
 "nbformat": 4,
 "nbformat_minor": 0
}
