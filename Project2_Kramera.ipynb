{
 "cells": [
  {
   "cell_type": "markdown",
   "metadata": {},
   "source": [
    "#Chapter 1\n",
    "##Experimenting with Code and Markdown symbols\n",
    "\n",
    "print(\"Hello\")\n",
    "\n",
    "2+2\n",
    "\n",
    "!ls *.ipynb  \n",
    "\n",
    "!dir *.ipynb"
   ]
  },
  {
   "cell_type": "markdown",
   "metadata": {},
   "source": [
    "### New paragraph\n",
    "This is *rich* **text** with [links] (http://ipython.org), equations:\n",
    "\n",
    "$$\\hat{f}(\\psi) = \\int_{-\\infty}^{+\\infty} f(x)\\,\n",
    "\\mathrm(e)^{-i \\xi x}$$\n",
    "\n",
    "code with syntax highlighting:\n",
    "```python\n",
    "print(\"Hello World\")\n",
    "```\n",
    "and images:\n",
    "![This is an image] (http://ipython.org/_static/IPy_header.png)"
   ]
  },
  {
   "cell_type": "markdown",
   "metadata": {},
   "source": [
    "#Chapter 2\n",
    "##Choosing Python 2 or 3\n",
    "Upgrading from Python 2.x to 3.x is cumbersome but Python has a library tool called “2to3”.  This tool will allow the code to update to the new conversion type.  For instance, logical expression, integer types, string versus Unicode etc.\n",
    "<table>\n",
    "<tr><td>Python 2.x</td><td>Python 3.x</td><td>Notes</td></tr>\n",
    "<tr><td>print 1</td><td>print(1)</td><td>The () are need in version 3.</td></tr>\n",
    "<tr><td>If x<>y:</td><td>if x != y:</td><td>The replacement of <> to !=</td></tr>\n",
    "</table>\n",
    "\t\t\t\t\t\t\n",
    "\t\t\t\t\t\t\n",
    "More examples of the differences can be located at this url <a href='#www.diveintopython3.net/porting-code-to-python-with-2to3.html'>Dive into Python</a> .\n",
    "##Integrated Development Environment (IDE)\n",
    "Python has many different IDEs to program in such as, Spyder, Eclipse plugin, PyCharm, Komodo, IDLE and Python Tools for Visual Studio.  Several IDEs associate an authoritative text editor, terminal and a debugger within a unified environment.\t  These IDEs have an easy navigation and ability to provide proper debugging features.  \t\n",
    "##Distributed Version Control\n",
    "There are many different DVCS software or cloud providers for sharing code, documents, or just basic information.  JOOMLA and WordPress offer a speaking ground for content management but do allow interaction with customers.  The Distributed Version Control System has more features which are for the developers to store the program code in a centralized location on a server or internal stand-alone network.  For instance, we are using the Github online service for projects among the three members for collaboration.  The IPython Interactive Computing and Visualization Cookbook mentions using the command line from the Git Shell.  The Git Shell is excellent for debugging if the website of the desktop GitHub is acting quirky.  \n",
    "  \n"
   ]
  },
  {
   "cell_type": "code",
   "execution_count": null,
   "metadata": {
    "collapsed": true
   },
   "outputs": [],
   "source": []
  },
  {
   "cell_type": "markdown",
   "metadata": {},
   "source": []
  },
  {
   "cell_type": "code",
   "execution_count": null,
   "metadata": {
    "collapsed": true
   },
   "outputs": [],
   "source": []
  }
 ],
 "metadata": {
  "kernelspec": {
   "display_name": "Python 3",
   "language": "python",
   "name": "python3"
  },
  "language_info": {
   "codemirror_mode": {
    "name": "ipython",
    "version": 3
   },
   "file_extension": ".py",
   "mimetype": "text/x-python",
   "name": "python",
   "nbconvert_exporter": "python",
   "pygments_lexer": "ipython3",
   "version": "3.4.3"
  }
 },
 "nbformat": 4,
 "nbformat_minor": 0
}
